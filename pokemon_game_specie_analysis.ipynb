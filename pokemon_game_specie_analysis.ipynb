{
 "cells": [
  {
   "cell_type": "code",
   "execution_count": null,
   "id": "cb544203",
   "metadata": {},
   "outputs": [],
   "source": [
    "# Import the libraries\n",
    "import numpy as np\n",
    "import pandas as pd\n",
    "import matplotlib.pyplot as plt"
   ]
  },
  {
   "cell_type": "code",
   "execution_count": null,
   "id": "7757b4f0",
   "metadata": {},
   "outputs": [],
   "source": [
    "# Read the dataset\n",
    "data = pd.read_csv('pokemon.csv')\n",
    "data.head()"
   ]
  },
  {
   "cell_type": "code",
   "execution_count": null,
   "id": "16541479",
   "metadata": {},
   "outputs": [],
   "source": [
    "# Clean the dataset\n",
    "data.isna()\n",
    "\n",
    "# Replace the NaN values with nill\n",
    "data = data.fillna('Single Mode Specie')\n",
    "\n",
    "data.head()        "
   ]
  },
  {
   "cell_type": "markdown",
   "id": "cbfc6196",
   "metadata": {},
   "source": [
    "# Let's draw some graphs for this dataset"
   ]
  },
  {
   "cell_type": "code",
   "execution_count": null,
   "id": "f694b7e1",
   "metadata": {
    "scrolled": true
   },
   "outputs": [],
   "source": [
    "# the graph of the collective features of the species of specific generation \n",
    "generation = ['1st Gen specie', '2nd Gen Specie', '3rd Gen Specie', '4th Gen Specei', '5th Gen Specie', '6th Gen Specei']\n",
    "new_colors = ['violet', 'indigo', 'blue', 'green', 'yellow', 'orange', 'red', 'maroon', 'gray', 'silver', 'gold', 'brown']\n",
    "\n",
    "plt.bar(generation, data.groupby('Generation').sum()['Total'], width=0.5, edgecolor='black', color= new_colors)\n",
    "plt.xticks(generation, rotation='vertical',size=10)\n",
    "plt.title('Graph of collective features vs Generation of the specie', color='red', size=20)\n",
    "plt.ylabel('Sum of collective features', color='red', size=16)\n",
    "plt.xlabel('Generation', color='red', size=20)\n",
    "plt.show()"
   ]
  },
  {
   "cell_type": "code",
   "execution_count": null,
   "id": "acdb12db",
   "metadata": {},
   "outputs": [],
   "source": [
    "# Graph to show how many species were added in each generation\n",
    "first_gen = 0\n",
    "sec_gen = 0\n",
    "third_gen = 0\n",
    "fourth_gen = 0\n",
    "fifth_gen = 0\n",
    "sixth_gen = 0\n",
    "for index, row in data.iterrows():\n",
    "    if row['Generation'] == 1:\n",
    "        first_gen += 1\n",
    "    elif row['Generation'] == 2:\n",
    "        sec_gen += 1\n",
    "    elif row['Generation'] == 3:\n",
    "        third_gen += 1\n",
    "    elif row['Generation'] == 4:\n",
    "        fourth_gen += 1\n",
    "    elif row['Generation'] == 5:\n",
    "        fifth_gen += 1\n",
    "    else:\n",
    "        sixth_gen += 1\n",
    "            \n",
    "number_of_species = np.array([first_gen, sec_gen, third_gen, fourth_gen, fifth_gen, sixth_gen])\n",
    "number_of_species\n",
    "\n",
    "plt.bar(generation, number_of_species, color=new_colors, width=0.5, edgecolor='black')\n",
    "plt.xticks(generation, rotation='vertical', size=10)\n",
    "plt.title('Graph for number of species introduced in each generation', color='red', size=20)\n",
    "plt.xlabel('Generation', color='blue', size=20)\n",
    "plt.ylabel('No. of Species', color='blue', size=20)\n",
    "plt.show()"
   ]
  },
  {
   "cell_type": "code",
   "execution_count": null,
   "id": "7340e516",
   "metadata": {},
   "outputs": [],
   "source": [
    "specie_type = data.groupby('Type 1')\n",
    "strength_level = specie_type.sum()['Total']\n",
    "specie_type = [pair for pair, df in specie_type]\n",
    "\n",
    "plt.bar(specie_type, strength_level, color=new_colors, edgecolor='black')\n",
    "plt.xticks(specie_type, rotation='vertical', size=10)\n",
    "plt.title('Graph for the strength of each speciality', color='red', size=20)\n",
    "plt.xlabel('Speciality', color='blue', size=20)\n",
    "plt.ylabel('Total strength',color='blue', size=20)\n",
    "plt.show()"
   ]
  },
  {
   "cell_type": "code",
   "execution_count": null,
   "id": "a7b75f6b",
   "metadata": {},
   "outputs": [],
   "source": [
    "specie_type = data.groupby('Type 1')\n",
    "specie_count = specie_type.count()['Name']\n",
    "specie_type = [pair for pair, df in specie_type]\n",
    "\n",
    "plt.bar(specie_type, specie_count, color=new_colors, edgecolor='black')\n",
    "plt.xticks(specie_type, rotation='vertical', size=10)\n",
    "plt.title('Graph to show speciality vs number of species having it', color='red', size=20)\n",
    "plt.xlabel('Speciality', color='blue', size=20)\n",
    "plt.ylabel('No. of species', color='blue', size=18)\n",
    "plt.show()"
   ]
  },
  {
   "cell_type": "code",
   "execution_count": null,
   "id": "0172c1ed",
   "metadata": {},
   "outputs": [],
   "source": [
    "speed_per_speciality = data.groupby('Type 1')\n",
    "speed_value = speed_per_speciality.sum()['Speed']\n",
    "speed_per_speciality = [pair for pair, df in speed_per_speciality]\n",
    "\n",
    "plt.bar(speed_per_speciality, speed_value, color=new_colors, edgecolor='black')\n",
    "plt.xticks(speed_per_speciality, rotation='vertical', size=10)\n",
    "plt.title('Graph for speed of different different specialities for species', color='red', size=20)\n",
    "plt.xlabel('Speciality', color='blue', size=20)\n",
    "plt.ylabel('Speed Values', color='blue', size=20)\n",
    "plt.show()"
   ]
  },
  {
   "cell_type": "code",
   "execution_count": null,
   "id": "dc941cd5",
   "metadata": {},
   "outputs": [],
   "source": [
    "speed_for_defence_speciality = data.groupby('Type 1')\n",
    "speed_value_in_defence = speed_for_defence_speciality.sum()['Sp. Def']\n",
    "speed_for_defence_speciality = [pair for pair, df in speed_for_defence_speciality]\n",
    "\n",
    "plt.bar(speed_for_defence_speciality, speed_value_in_defence, color=new_colors, edgecolor='black')\n",
    "plt.xticks(speed_for_defence_speciality, rotation='vertical', size=10)\n",
    "plt.title('Graph for defence speed of different specialities for species', color='red', size=20)\n",
    "plt.xlabel('Speciality', color='blue', size=20)\n",
    "plt.ylabel('Defence speed values', color='blue', size=18)\n",
    "plt.show()"
   ]
  },
  {
   "cell_type": "code",
   "execution_count": null,
   "id": "ff6c3c99",
   "metadata": {},
   "outputs": [],
   "source": [
    "speed_while_attacking = data.groupby('Type 1')\n",
    "speed_attack_values = speed_while_attacking.sum()['Sp. Atk']\n",
    "speed_while_attacking = [pair for pair, df in speed_while_attacking]\n",
    "\n",
    "plt.bar(speed_while_attacking, speed_attack_values, color=new_colors, edgecolor='black')\n",
    "plt.xticks(speed_while_attacking, rotation='vertical', size=10)\n",
    "plt.title('Graph for attacking speed of differnet specialities of species', color='red', size=20)\n",
    "plt.xlabel('Speciality', color='blue', size=20)\n",
    "plt.ylabel('Attacking speed values', color='blue', size=18)\n",
    "plt.show()"
   ]
  },
  {
   "cell_type": "code",
   "execution_count": null,
   "id": "00532db4",
   "metadata": {},
   "outputs": [],
   "source": [
    "attack_speciality = data.groupby('Type 1')\n",
    "attack_values = attack_speciality.sum()['Attack']\n",
    "attack_speciality = [pair for pair, df in attack_speciality]\n",
    "\n",
    "plt.bar(attack_speciality, attack_values, color=new_colors, edgecolor='black')\n",
    "plt.xticks(attack_speciality, rotation='vertical', size=10)\n",
    "plt.title('Graph for the attacking capability of different specialities of species', color='red', size=20)\n",
    "plt.xlabel('Speciality', color='blue', size=20)\n",
    "plt.ylabel('Attack level values', color='blue', size=18)\n",
    "plt.show()"
   ]
  },
  {
   "cell_type": "code",
   "execution_count": null,
   "id": "d02d659a",
   "metadata": {},
   "outputs": [],
   "source": [
    "defence_speciality = data.groupby('Type 1')\n",
    "defence_level_values = defence_speciality.sum()['Defense']\n",
    "defence_speciality = [pair for pair, df in defence_speciality]\n",
    "\n",
    "plt.bar(defence_speciality, defence_level_values, color=new_colors, edgecolor='black')\n",
    "plt.xticks(defence_speciality, rotation='vertical', size=10)\n",
    "plt.title('Graph for the defence level of every speciality of the species', color='red', size=20)\n",
    "plt.xlabel('Speciality', color='blue', size=20)\n",
    "plt.ylabel('Defence level values')\n",
    "plt.show()"
   ]
  },
  {
   "cell_type": "code",
   "execution_count": null,
   "id": "4769704b",
   "metadata": {},
   "outputs": [],
   "source": [
    "data.head()"
   ]
  },
  {
   "cell_type": "code",
   "execution_count": null,
   "id": "b0694781",
   "metadata": {},
   "outputs": [],
   "source": [
    "health_points = data.groupby('Type 1')\n",
    "health_points_value = health_points.sum()['HP']\n",
    "health_points = [pair for pair,df in health_points]\n",
    "\n",
    "plt.bar(health_points, health_points_value, color = new_colors, edgecolor = 'black')\n",
    "plt.xticks(health_points, rotation='vertical', size=10)\n",
    "plt.title('Graph to show how much demage can a specie with a particular speciality withstand', color='red', size=20)\n",
    "plt.xlabel('Speciality', color='blue', size=20)\n",
    "plt.ylabel('Sum of health points', color='blue', size=18)\n",
    "plt.show()"
   ]
  },
  {
   "cell_type": "code",
   "execution_count": 18,
   "id": "9c41e0c6",
   "metadata": {},
   "outputs": [],
   "source": [
    "data.to_csv('Updated pokemon data.csv')"
   ]
  },
  {
   "cell_type": "code",
   "execution_count": null,
   "id": "a6945ffc",
   "metadata": {},
   "outputs": [],
   "source": []
  }
 ],
 "metadata": {
  "kernelspec": {
   "display_name": "Python 3 (ipykernel)",
   "language": "python",
   "name": "python3"
  },
  "language_info": {
   "codemirror_mode": {
    "name": "ipython",
    "version": 3
   },
   "file_extension": ".py",
   "mimetype": "text/x-python",
   "name": "python",
   "nbconvert_exporter": "python",
   "pygments_lexer": "ipython3",
   "version": "3.7.8"
  }
 },
 "nbformat": 4,
 "nbformat_minor": 5
}
